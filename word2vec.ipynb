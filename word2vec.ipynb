{
 "cells": [
  {
   "cell_type": "markdown",
   "metadata": {},
   "source": [
    "# Word2vec\n",
    "\n",
    "- 褚则伟 zeweichu@gmail.com\n",
    "- 稀牛学院NLP课程资料\n",
    "\n"
   ]
  },
  {
   "cell_type": "code",
   "execution_count": 1,
   "metadata": {
    "collapsed": true
   },
   "outputs": [],
   "source": [
    "import tensorflow as tf\n",
    "import os"
   ]
  },
  {
   "cell_type": "markdown",
   "metadata": {},
   "source": [
    "### 定义一个Skip Gram的Model class"
   ]
  },
  {
   "cell_type": "code",
   "execution_count": 2,
   "metadata": {
    "collapsed": true
   },
   "outputs": [],
   "source": [
    "def make_dir(path):\n",
    "    try:\n",
    "        os.mkdir(path)\n",
    "    except OSError:\n",
    "        pass\n",
    "    \n",
    "def huber_loss(labels, predictions, delta=1.0):\n",
    "    residual = tf.abs(predictions - labels)\n",
    "    def f1(): return 0.5*tf.square(residual)\n",
    "    def f2(): return delta*residual - 0.5*tf.square(delta)\n",
    "    return tf.cond(residual<delta, f1, f2)"
   ]
  },
  {
   "cell_type": "code",
   "execution_count": 3,
   "metadata": {
    "collapsed": true
   },
   "outputs": [],
   "source": [
    "import zipfile\n",
    "from collections import Counter\n",
    "import os\n",
    "import sys\n",
    "import zipfile\n",
    "\n",
    "import numpy as np\n",
    "from six.moves import urllib\n",
    "import tensorflow as tf\n",
    "import random\n",
    "\n",
    "DOWNLOAD_URL = \"http://mattmahoney.net/dc/\"\n",
    "EXPECTED_BYTES = 31344016\n",
    "DATA_FOLDER = \"./data/\"\n",
    "FILE_NAME = \"text8.zip\"\n"
   ]
  },
  {
   "cell_type": "markdown",
   "metadata": {},
   "source": [
    "### 下载数据"
   ]
  },
  {
   "cell_type": "code",
   "execution_count": 4,
   "metadata": {},
   "outputs": [
    {
     "name": "stdout",
     "output_type": "stream",
     "text": [
      "Dataset ready\n"
     ]
    },
    {
     "data": {
      "text/plain": [
       "'./data/text8.zip'"
      ]
     },
     "execution_count": 4,
     "metadata": {},
     "output_type": "execute_result"
    }
   ],
   "source": [
    "def download(file_name, expected_bytes):\n",
    "    if not os.path.exists(DATA_FOLDER):\n",
    "        make_dir(DATA_FOLDER)\n",
    "    file_path = DATA_FOLDER + file_name\n",
    "    if os.path.exists(file_path):\n",
    "        print(\"Dataset ready\")\n",
    "        return file_path\n",
    "    file_name, _ = urllib.request.urlretrieve(DOWNLOAD_URL + \n",
    "                                              file_name, file_path)\n",
    "    file_stat = os.stat(file_path)\n",
    "    if file_stat.st_size == expected_bytes:\n",
    "        print(\"Successfully downloaded the file\", file_name)\n",
    "    else:\n",
    "        raise Exception(\"File \" + file_name + \n",
    "                        ' might be corrupted. You should try \\\n",
    "                        downloading it with a browser. ')\n",
    "    return file_path\n",
    "file_path = download(FILE_NAME, EXPECTED_BYTES)\n",
    "file_path"
   ]
  },
  {
   "cell_type": "markdown",
   "metadata": {},
   "source": [
    "### 读取数据"
   ]
  },
  {
   "cell_type": "code",
   "execution_count": 5,
   "metadata": {},
   "outputs": [
    {
     "name": "stdout",
     "output_type": "stream",
     "text": [
      "17005207\n",
      "['anarchism', 'originated', 'as', 'a', 'term']\n"
     ]
    }
   ],
   "source": [
    "def read_data(file_path):\n",
    "    with zipfile.ZipFile(file_path) as f:\n",
    "        words = tf.compat.as_str(f.read(f.namelist()[0])).split()\n",
    "    return words\n",
    "\n",
    "words = read_data(file_path)\n",
    "print(len(words))\n",
    "print(words[:5])"
   ]
  },
  {
   "cell_type": "markdown",
   "metadata": {},
   "source": [
    "### 构建dataset"
   ]
  },
  {
   "cell_type": "code",
   "execution_count": 6,
   "metadata": {},
   "outputs": [
    {
     "name": "stdout",
     "output_type": "stream",
     "text": [
      "Most common words: {} [['UNK', 418391], ('the', 1061396), ('of', 593677), ('and', 416629), ('one', 411764)]\n",
      "Sample data: [5234, 3081, 12, 6, 195, 2, 3134, 46, 59, 156], ['anarchism', 'originated', 'as', 'a', 'term', 'of', 'abuse', 'first', 'used', 'against']\n"
     ]
    }
   ],
   "source": [
    "def build_dataset(words, vocab_size):\n",
    "    # 构建一个 word -> index 的 dictionary，\n",
    "    # 以及一个 index -> word 的 reverse_dictionary\n",
    "    dictionary = {}\n",
    "    count  = [[\"UNK\", -1]]\n",
    "    count.extend(Counter(words).most_common(vocab_size - 1))\n",
    "    index = 0\n",
    "    make_dir(\"processed\")\n",
    "    with open(\"processed/vocab_1000.tsv\", \"w\") as f:\n",
    "        for word, _ in count:\n",
    "            dictionary[word] = index\n",
    "            if index < 1000:\n",
    "                f.write(word + \"\\n\")\n",
    "            index += 1\n",
    "    word_index = [dictionary[word] if word in dictionary else 0 for word in words]\n",
    "    count[0][1] = word_index.count(0)\n",
    "    reverse_dictionary = dict(zip(dictionary.values(), dictionary.keys()))\n",
    "    return word_index, count, dictionary, reverse_dictionary\n",
    "\n",
    "VOCAB_SIZE = 50000\n",
    "word_index, count, dictionary, reverse_dictionary = build_dataset(words, VOCAB_SIZE)\n",
    "del words # 可以节省内存\n",
    "print(\"Most common words: {}\", count[:5])\n",
    "print(\"Sample data: {}, {}\".format(word_index[:10], [reverse_dictionary[i] for i in word_index[:10]]))"
   ]
  },
  {
   "cell_type": "markdown",
   "metadata": {},
   "source": [
    "### 把word都转换成index"
   ]
  },
  {
   "cell_type": "markdown",
   "metadata": {},
   "source": [
    "### 生成一些训练用的sample data"
   ]
  },
  {
   "cell_type": "code",
   "execution_count": 7,
   "metadata": {},
   "outputs": [
    {
     "data": {
      "text/plain": [
       "<generator object generate_sample at 0x11099fc50>"
      ]
     },
     "execution_count": 7,
     "metadata": {},
     "output_type": "execute_result"
    }
   ],
   "source": [
    "BATCH_SIZE = 128\n",
    "def generate_sample(index_words, context_window_size):\n",
    "    for index, center in enumerate(index_words):\n",
    "        # 选出一个随机数当做window_size\n",
    "        context = random.randint(1, context_window_size)\n",
    "        for target in index_words[max(0, index-context):index]:\n",
    "            yield center, target\n",
    "        for target in index_words[index + 1: index + context + 1]:\n",
    "            yield center, target\n",
    "            \n",
    "            \n",
    "single_gen = generate_sample(word_index, BATCH_SIZE)\n",
    "single_gen"
   ]
  },
  {
   "cell_type": "markdown",
   "metadata": {},
   "source": [
    "### 构造一个iterator可以生成batch"
   ]
  },
  {
   "cell_type": "code",
   "execution_count": 8,
   "metadata": {},
   "outputs": [
    {
     "data": {
      "text/plain": [
       "<generator object get_batch at 0x123b37570>"
      ]
     },
     "execution_count": 8,
     "metadata": {},
     "output_type": "execute_result"
    }
   ],
   "source": [
    "def get_batch(iterator, batch_size):\n",
    "    while True:\n",
    "        center_batch = np.zeros(batch_size, dtype=np.int32)\n",
    "        target_batch = np.zeros([batch_size, 1], dtype=np.int32)\n",
    "        for index in range(batch_size):\n",
    "            center_batch[index], target_batch[index] = next(iterator)\n",
    "        yield center_batch, target_batch\n",
    "        \n",
    "batch_gen = get_batch(single_gen, BATCH_SIZE)\n",
    "batch_gen"
   ]
  },
  {
   "cell_type": "markdown",
   "metadata": {},
   "source": [
    "### 定义model"
   ]
  },
  {
   "cell_type": "code",
   "execution_count": 9,
   "metadata": {},
   "outputs": [],
   "source": [
    "EMBED_SIZE = 128\n",
    "NUM_SAMPLED = 64\n",
    "LEARNING_RATE = 0.1\n",
    "\n",
    "# valid_size = 16\n",
    "# valid_window = 100\n",
    "# valid_examples = np.random.choice(valid_window, valid_size, replace=False)\n",
    "\n",
    "graph = tf.Graph()\n",
    "\n",
    "with graph.as_default():\n",
    "    target_words = tf.placeholder(tf.int32, shape=[BATCH_SIZE])\n",
    "    context_words = tf.placeholder(tf.int32, shape=[BATCH_SIZE, 1])\n",
    "            \n",
    "    with tf.device(\"/cpu:0\"):\n",
    "        global_step = tf.Variable(0, dtype=tf.int32, trainable = False)\n",
    "        embeddings = tf.Variable(tf.random_uniform([VOCAB_SIZE, EMBED_SIZE], -1.0, 1.0))\n",
    "        embed = tf.nn.embedding_lookup(embeddings, target_words)\n",
    "        nce_weight = tf.Variable(tf.truncated_normal([VOCAB_SIZE, EMBED_SIZE],\n",
    "                                                            stddev=1.0/(EMBED_SIZE ** 0.5)))\n",
    "        nce_bias = tf.Variable(tf.zeros([VOCAB_SIZE]))\n",
    "        loss = tf.reduce_mean(tf.nn.nce_loss(weights=nce_weight, biases=nce_bias, \n",
    "                                             labels=context_words,\n",
    "                                             inputs=embed, num_sampled=NUM_SAMPLED,\n",
    "                                             num_classes=VOCAB_SIZE))\n",
    "                \n",
    "        optimizer = tf.train.GradientDescentOptimizer(LEARNING_RATE).minimize(loss)\n",
    "            \n",
    "#         norm = tf.sqrt(tf.reduce_sum(tf.square(embeddings), 1, keep_dims=True))\n",
    "#         normalized_embeddings = embeddings/norm\n",
    "#         valid_embeddings = tf.nn.embedding_loop\n",
    "        init = tf.global_variables_initializer() \n",
    "        "
   ]
  },
  {
   "cell_type": "markdown",
   "metadata": {},
   "source": [
    "### 训练model"
   ]
  },
  {
   "cell_type": "code",
   "execution_count": 12,
   "metadata": {
    "scrolled": true
   },
   "outputs": [
    {
     "name": "stdout",
     "output_type": "stream",
     "text": [
      "Average loss at step 1999: 167.7\n",
      "Average loss at step 3999:  98.4\n",
      "Average loss at step 5999:  74.8\n",
      "Average loss at step 7999:  53.0\n",
      "Average loss at step 9999:  41.0\n",
      "Average loss at step 11999:  39.7\n",
      "Average loss at step 13999:  36.3\n",
      "Average loss at step 15999:  35.4\n",
      "Average loss at step 17999:  36.6\n",
      "Average loss at step 19999:  31.3\n",
      "Average loss at step 21999:  26.3\n",
      "Average loss at step 23999:  20.0\n",
      "Average loss at step 25999:  20.9\n",
      "Average loss at step 27999:  23.2\n",
      "Average loss at step 29999:  18.9\n",
      "Average loss at step 31999:  19.8\n",
      "Average loss at step 33999:  18.5\n",
      "Average loss at step 35999:  16.8\n",
      "Average loss at step 37999:  16.3\n",
      "Average loss at step 39999:  18.0\n",
      "Average loss at step 41999:  15.2\n",
      "Average loss at step 43999:  14.4\n",
      "Average loss at step 45999:  16.0\n",
      "Average loss at step 47999:  14.5\n",
      "Average loss at step 49999:  18.7\n",
      "Average loss at step 51999:  17.0\n",
      "Average loss at step 53999:  14.8\n",
      "Average loss at step 55999:  13.3\n",
      "Average loss at step 57999:  11.8\n",
      "Average loss at step 59999:  11.5\n",
      "Average loss at step 61999:  10.6\n",
      "Average loss at step 63999:   9.6\n",
      "Average loss at step 65999:   9.8\n",
      "Average loss at step 67999:  14.6\n",
      "Average loss at step 69999:  12.3\n",
      "Average loss at step 71999:  10.9\n",
      "Average loss at step 73999:  12.9\n",
      "Average loss at step 75999:  12.4\n",
      "Average loss at step 77999:  12.5\n",
      "Average loss at step 79999:  12.4\n",
      "Average loss at step 81999:  10.4\n",
      "Average loss at step 83999:  12.2\n",
      "Average loss at step 85999:  14.4\n",
      "Average loss at step 87999:  10.5\n",
      "Average loss at step 89999:  11.7\n",
      "Average loss at step 91999:  12.7\n",
      "Average loss at step 93999:   9.4\n",
      "Average loss at step 95999:  10.4\n",
      "Average loss at step 97999:  10.3\n",
      "Average loss at step 99999:  10.8\n"
     ]
    }
   ],
   "source": [
    "SKIP_STEP = 2000\n",
    "WEIGHTS_FOLDER = 'processed'\n",
    "NUM_TRAIN_STEPS = 100000\n",
    "\n",
    "# 构造一个 Saver object，会默认保存所有variables\n",
    "\n",
    "initial_step = 0\n",
    "make_dir(\"checkpoints\")\n",
    "\n",
    "with tf.Session(graph=graph) as sess:\n",
    "    sess.run(tf.global_variables_initializer())\n",
    "\n",
    "    total_loss = 0.0\n",
    "    initial_step = global_step.eval()\n",
    "    \n",
    "    for index in range(initial_step, initial_step + NUM_TRAIN_STEPS):\n",
    "        target_words_batch, context_words_batch = next(batch_gen)\n",
    "\n",
    "        loss_batch, _ = sess.run([loss, optimizer],\n",
    "                                 feed_dict = {target_words: target_words_batch, \n",
    "                                              context_words: context_words_batch})\n",
    "        total_loss += loss_batch\n",
    "        \n",
    "        if (index + 1) % SKIP_STEP == 0:\n",
    "            print(\"Average loss at step {}: {:5.1f}\".format(index, total_loss / SKIP_STEP))\n",
    "            total_loss = 0.0\n",
    "    \n",
    "\n"
   ]
  },
  {
   "cell_type": "code",
   "execution_count": null,
   "metadata": {
    "collapsed": true
   },
   "outputs": [],
   "source": []
  }
 ],
 "metadata": {
  "kernelspec": {
   "display_name": "Python 3",
   "language": "python",
   "name": "python3"
  },
  "language_info": {
   "codemirror_mode": {
    "name": "ipython",
    "version": 3
   },
   "file_extension": ".py",
   "mimetype": "text/x-python",
   "name": "python",
   "nbconvert_exporter": "python",
   "pygments_lexer": "ipython3",
   "version": "3.6.1"
  }
 },
 "nbformat": 4,
 "nbformat_minor": 2
}
