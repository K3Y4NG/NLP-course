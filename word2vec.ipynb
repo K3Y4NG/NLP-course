{
 "cells": [
  {
   "cell_type": "markdown",
   "metadata": {},
   "source": [
    "# Word2vec\n",
    "\n",
    "- 褚则伟 zeweichu@gmail.com\n",
    "- 稀牛学院NLP课程资料\n",
    "\n"
   ]
  },
  {
   "cell_type": "markdown",
   "metadata": {},
   "source": [
    "### 定义一个Skip Gram的Model class"
   ]
  },
  {
   "cell_type": "code",
   "execution_count": 1,
   "metadata": {
    "collapsed": true
   },
   "outputs": [],
   "source": [
    "import tensorflow as tf\n",
    "import os\n",
    "\n",
    "def make_dir(path):\n",
    "    try:\n",
    "        os.mkdir(path)\n",
    "    except OSError:\n",
    "        pass"
   ]
  },
  {
   "cell_type": "code",
   "execution_count": 2,
   "metadata": {
    "collapsed": true
   },
   "outputs": [],
   "source": [
    "import zipfile\n",
    "from collections import Counter\n",
    "import sys\n",
    "import zipfile\n",
    "\n",
    "import numpy as np\n",
    "from six.moves import urllib\n",
    "import random\n",
    "\n",
    "DOWNLOAD_URL = \"http://mattmahoney.net/dc/\"\n",
    "EXPECTED_BYTES = 31344016\n",
    "DATA_FOLDER = \"./data/\"\n",
    "FILE_NAME = \"text8.zip\"\n"
   ]
  },
  {
   "cell_type": "markdown",
   "metadata": {},
   "source": [
    "### 下载数据"
   ]
  },
  {
   "cell_type": "code",
   "execution_count": 3,
   "metadata": {},
   "outputs": [
    {
     "name": "stdout",
     "output_type": "stream",
     "text": [
      "Dataset ready\n"
     ]
    },
    {
     "data": {
      "text/plain": [
       "'./data/text8.zip'"
      ]
     },
     "execution_count": 3,
     "metadata": {},
     "output_type": "execute_result"
    }
   ],
   "source": [
    "def download(file_name, expected_bytes):\n",
    "    if not os.path.exists(DATA_FOLDER):\n",
    "        make_dir(DATA_FOLDER)\n",
    "    file_path = DATA_FOLDER + file_name\n",
    "    if os.path.exists(file_path):\n",
    "        print(\"Dataset ready\")\n",
    "        return file_path\n",
    "    file_name, _ = urllib.request.urlretrieve(DOWNLOAD_URL + \n",
    "                                              file_name, file_path)\n",
    "    file_stat = os.stat(file_path)\n",
    "    if file_stat.st_size == expected_bytes:\n",
    "        print(\"Successfully downloaded the file\", file_name)\n",
    "    else:\n",
    "        raise Exception(\"File \" + file_name + \n",
    "                        ' might be corrupted. You should try \\\n",
    "                        downloading it with a browser. ')\n",
    "    return file_path\n",
    "file_path = download(FILE_NAME, EXPECTED_BYTES)\n",
    "file_path"
   ]
  },
  {
   "cell_type": "markdown",
   "metadata": {},
   "source": [
    "### 读取数据"
   ]
  },
  {
   "cell_type": "code",
   "execution_count": 4,
   "metadata": {},
   "outputs": [
    {
     "name": "stdout",
     "output_type": "stream",
     "text": [
      "17005207\n",
      "['anarchism', 'originated', 'as', 'a', 'term']\n"
     ]
    }
   ],
   "source": [
    "def read_data(file_path):\n",
    "    with zipfile.ZipFile(file_path) as f:\n",
    "        words = tf.compat.as_str(f.read(f.namelist()[0])).split()\n",
    "    return words\n",
    "\n",
    "words = read_data(file_path)\n",
    "print(len(words))\n",
    "print(words[:5])"
   ]
  },
  {
   "cell_type": "markdown",
   "metadata": {},
   "source": [
    "### 构建dataset\n",
    "把word都转换成index"
   ]
  },
  {
   "cell_type": "code",
   "execution_count": 5,
   "metadata": {},
   "outputs": [
    {
     "name": "stdout",
     "output_type": "stream",
     "text": [
      "Most common words: {} [['UNK', 418391], ('the', 1061396), ('of', 593677), ('and', 416629), ('one', 411764)]\n",
      "Sample data: [5234, 3081, 12, 6, 195, 2, 3134, 46, 59, 156], ['anarchism', 'originated', 'as', 'a', 'term', 'of', 'abuse', 'first', 'used', 'against']\n"
     ]
    }
   ],
   "source": [
    "def build_dataset(words, vocab_size):\n",
    "    # 构建一个 word -> index 的 dictionary，\n",
    "    # 以及一个 index -> word 的 reverse_dictionary\n",
    "    dictionary = {}\n",
    "    count  = [[\"UNK\", -1]]\n",
    "    count.extend(Counter(words).most_common(vocab_size - 1))\n",
    "    index = 0\n",
    "    make_dir(\"processed\")\n",
    "    with open(\"processed/vocab_1000.tsv\", \"w\") as f:\n",
    "        for word, _ in count:\n",
    "            dictionary[word] = index\n",
    "            if index < 1000:\n",
    "                f.write(word + \"\\n\")\n",
    "            index += 1\n",
    "    word_index = [dictionary[word] if word in dictionary else 0 for word in words]\n",
    "    count[0][1] = word_index.count(0)\n",
    "    reverse_dictionary = dict(zip(dictionary.values(), dictionary.keys()))\n",
    "    return word_index, count, dictionary, reverse_dictionary\n",
    "\n",
    "VOCAB_SIZE = 50000\n",
    "word_index, count, dictionary, reverse_dictionary = build_dataset(words, VOCAB_SIZE)\n",
    "del words # 可以节省内存\n",
    "print(\"Most common words: {}\", count[:5])\n",
    "print(\"Sample data: {}, {}\".format(word_index[:10], [reverse_dictionary[i] for i in word_index[:10]]))"
   ]
  },
  {
   "cell_type": "markdown",
   "metadata": {},
   "source": [
    "### 生成训练的batch"
   ]
  },
  {
   "cell_type": "code",
   "execution_count": 6,
   "metadata": {},
   "outputs": [
    {
     "name": "stdout",
     "output_type": "stream",
     "text": [
      "3081 originated -> 12 as\n",
      "3081 originated -> 12 as\n",
      "12 as -> 6 a\n",
      "12 as -> 6 a\n",
      "6 a -> 195 term\n",
      "6 a -> 195 term\n",
      "195 term -> 2 of\n",
      "195 term -> 2 of\n"
     ]
    }
   ],
   "source": [
    "import collections\n",
    "data_index = 0\n",
    "def generate_batch(batch_size, num_skips, skip_window):\n",
    "    global data_index\n",
    "    assert batch_size % num_skips == 0\n",
    "    assert num_skips <= 2 * skip_window # 我们希望拿到的skip数量比window单词的数量少，这样不会产生重复的sample\n",
    "    batch = np.ndarray(shape=(batch_size), dtype=np.int32)\n",
    "    labels = np.ndarray(shape=(batch_size, 1), dtype=np.int32)\n",
    "    span = 2*skip_window + 1\n",
    "    buffer = collections.deque(maxlen=span)\n",
    "    if data_index + span > len(word_index):\n",
    "        data_index = 0\n",
    "    buffer.extend(word_index[data_index:data_index+span])\n",
    "    data_index += span\n",
    "    for i in range(batch_size // num_skips):\n",
    "        target = skip_window\n",
    "        targets_to_avoid = [skip_window]\n",
    "        for j in range(num_skips):\n",
    "            while target in targets_to_avoid: \n",
    "                target = random.randint(0, span-1) # 随机从window里面选一个target_word\n",
    "            batch[i*num_skips + j] = buffer[skip_window]\n",
    "            labels[i*num_skips + j, 0] = buffer[target]\n",
    "        if data_index == len(word_index): # 如果data_index已经到这个文档的末尾了，我们就从头开始\n",
    "            buffer[:] = word_index[:span]\n",
    "            data_index = span\n",
    "        else: # 把整个window往后面移一个位置\n",
    "            buffer.append(word_index[data_index])\n",
    "            data_index += 1\n",
    "    data_index = (data_index + len(word_index) - span) % len(word_index)\n",
    "    return batch, labels\n",
    "\n",
    "batch, labels = generate_batch(batch_size=8, num_skips=2, skip_window=1)\n",
    "for i in range(8):\n",
    "    print(batch[i], reverse_dictionary[batch[i]],\n",
    "        '->', labels[i, 0], reverse_dictionary[labels[i, 0]])"
   ]
  },
  {
   "cell_type": "markdown",
   "metadata": {},
   "source": [
    "### 定义model"
   ]
  },
  {
   "cell_type": "code",
   "execution_count": null,
   "metadata": {},
   "outputs": [],
   "source": [
    "EMBED_SIZE = 128\n",
    "NUM_SAMPLED = 64\n",
    "LEARNING_RATE = 1.0\n",
    "BATCH_SIZE = 128\n",
    "\n",
    "valid_size = 16\n",
    "valid_window = 100\n",
    "valid_examples = np.random.choice(valid_window, valid_size, replace=False)\n",
    "num_sampled = 64\n",
    "\n",
    "# valid_size = 16\n",
    "# valid_window = 100\n",
    "# valid_examples = np.random.choice(valid_window, valid_size, replace=False)\n",
    "\n",
    "graph = tf.Graph()\n",
    "\n",
    "with graph.as_default():\n",
    "    target_words = tf.placeholder(tf.int32, shape=[BATCH_SIZE])\n",
    "    context_words = tf.placeholder(tf.int32, shape=[BATCH_SIZE, 1])\n",
    "    valid_dataset = tf.constant(valid_examples, dtype=tf.int32)\n",
    "            \n",
    "    with tf.device(\"/cpu:0\"):\n",
    "        global_step = tf.Variable(0, dtype=tf.int32, trainable = False)\n",
    "        embeddings = tf.Variable(tf.random_uniform([VOCAB_SIZE, EMBED_SIZE], -1.0, 1.0))\n",
    "        embed = tf.nn.embedding_lookup(embeddings, target_words)\n",
    "        nce_weight = tf.Variable(tf.truncated_normal([VOCAB_SIZE, EMBED_SIZE],\n",
    "                                                            stddev=1.0/(EMBED_SIZE ** 0.5)))\n",
    "        nce_bias = tf.Variable(tf.zeros([VOCAB_SIZE]))\n",
    "        loss = tf.reduce_mean(tf.nn.nce_loss(weights=nce_weight, biases=nce_bias, \n",
    "                                             labels=context_words,\n",
    "                                             inputs=embed, num_sampled=NUM_SAMPLED,\n",
    "                                             num_classes=VOCAB_SIZE))\n",
    "                \n",
    "        optimizer = tf.train.GradientDescentOptimizer(LEARNING_RATE).minimize(loss)\n",
    "        \n",
    "        \n",
    "        # 计算cosine similarity \n",
    "        norm = tf.sqrt(tf.reduce_sum(tf.square(embeddings), 1, keep_dims=True))\n",
    "        normalized_embeddings = embeddings/norm\n",
    "        valid_embeddings = tf.nn.embedding_lookup(normalized_embeddings, valid_dataset)\n",
    "        similarity = tf.matmul(valid_embeddings, normalized_embeddings, transpose_b=True)\n",
    "        \n",
    "        \n",
    "        init = tf.global_variables_initializer() \n",
    "        "
   ]
  },
  {
   "cell_type": "markdown",
   "metadata": {},
   "source": [
    "### 训练model"
   ]
  },
  {
   "cell_type": "code",
   "execution_count": null,
   "metadata": {
    "scrolled": true
   },
   "outputs": [
    {
     "name": "stdout",
     "output_type": "stream",
     "text": [
      "Average loss at step 1999: 114.4\n",
      "Average loss at step 3999:  52.9\n"
     ]
    }
   ],
   "source": [
    "SKIP_STEP = 2000\n",
    "WEIGHTS_FOLDER = 'processed'\n",
    "NUM_TRAIN_STEPS = 100000\n",
    "SKIP_WINDOW = 1      \n",
    "NUM_SKIPS = 2  \n",
    "\n",
    "# 构造一个 Saver object，会默认保存所有variables\n",
    "\n",
    "initial_step = 0\n",
    "make_dir(\"checkpoints\")\n",
    "\n",
    "with tf.Session(graph=graph) as sess:\n",
    "    sess.run(tf.global_variables_initializer())\n",
    "\n",
    "    total_loss = 0.0\n",
    "    initial_step = global_step.eval()\n",
    "    \n",
    "    for index in range(initial_step, initial_step + NUM_TRAIN_STEPS):\n",
    "        target_words_batch, context_words_batch = generate_batch(BATCH_SIZE, NUM_SKIPS, SKIP_WINDOW)#next(batch_gen)\n",
    "\n",
    "        loss_batch, _ = sess.run([loss, optimizer],\n",
    "                                 feed_dict = {target_words: target_words_batch, \n",
    "                                              context_words: context_words_batch})\n",
    "        total_loss += loss_batch\n",
    "        \n",
    "        if (index + 1) % SKIP_STEP == 0:\n",
    "            print(\"Average loss at step {}: {:5.1f}\".format(index, total_loss / SKIP_STEP))\n",
    "            total_loss = 0.0\n",
    "    \n",
    "        if (index + 1) % 10000 == 0:\n",
    "            sim = similarity.eval()\n",
    "            for i in range(valid_size):\n",
    "                valid_word = reverse_dictionary[valid_examples[i]]\n",
    "                top_k = 8\n",
    "                nearest = (-sim[i, :]).argsort()[1:top_k + 1]\n",
    "                log_str = \"Nearest to {}:\".format(valid_word)\n",
    "                for k in range(top_k):\n",
    "                    close_word = reverse_dictionary[nearest[k]]\n",
    "                    log_str = \"{} {},\".format(log_str, close_word)\n",
    "                print(log_str)\n",
    "        final_embeddings = normalized_embeddings.eval()\n",
    "\n"
   ]
  },
  {
   "cell_type": "code",
   "execution_count": null,
   "metadata": {
    "collapsed": true
   },
   "outputs": [],
   "source": []
  }
 ],
 "metadata": {
  "kernelspec": {
   "display_name": "Python 3",
   "language": "python",
   "name": "python3"
  },
  "language_info": {
   "codemirror_mode": {
    "name": "ipython",
    "version": 3
   },
   "file_extension": ".py",
   "mimetype": "text/x-python",
   "name": "python",
   "nbconvert_exporter": "python",
   "pygments_lexer": "ipython3",
   "version": "3.6.2"
  }
 },
 "nbformat": 4,
 "nbformat_minor": 2
}
